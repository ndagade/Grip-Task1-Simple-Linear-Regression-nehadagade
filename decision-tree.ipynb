{
 "cells": [
  {
   "cell_type": "markdown",
   "metadata": {},
   "source": [
    "# Decision  Tree Classification: Iris Dataset"
   ]
  },
  {
   "cell_type": "markdown",
   "metadata": {},
   "source": [
    " This dataset consist 3 species of plant with petal width and length data samples. In the below R code “rpart” package used to create a decision tree model for predicting the species using the petal information."
   ]
  },
  {
   "cell_type": "code",
   "execution_count": 28,
   "metadata": {},
   "outputs": [],
   "source": [
    "#Importing the packages\n",
    "library(rpart)\n",
    "library(rpart.plot)\n",
    "library(Metrics)\n",
    "library(ggplot2)\n",
    "library(caret)"
   ]
  },
  {
   "cell_type": "code",
   "execution_count": 29,
   "metadata": {},
   "outputs": [],
   "source": [
    "#Importing the Dataset\n",
    "irisdata=read.csv('iris.csv')\n",
    "irisdata=irisdata[2:6]\n"
   ]
  },
  {
   "cell_type": "code",
   "execution_count": 9,
   "metadata": {},
   "outputs": [
    {
     "data": {
      "text/html": [
       "<table>\n",
       "<thead><tr><th scope=col>SepalLengthCm</th><th scope=col>SepalWidthCm</th><th scope=col>PetalLengthCm</th><th scope=col>PetalWidthCm</th><th scope=col>Species</th></tr></thead>\n",
       "<tbody>\n",
       "\t<tr><td>5.1        </td><td>3.5        </td><td>1.4        </td><td>0.2        </td><td>Iris-setosa</td></tr>\n",
       "\t<tr><td>4.9        </td><td>3.0        </td><td>1.4        </td><td>0.2        </td><td>Iris-setosa</td></tr>\n",
       "\t<tr><td>4.7        </td><td>3.2        </td><td>1.3        </td><td>0.2        </td><td>Iris-setosa</td></tr>\n",
       "\t<tr><td>4.6        </td><td>3.1        </td><td>1.5        </td><td>0.2        </td><td>Iris-setosa</td></tr>\n",
       "\t<tr><td>5.0        </td><td>3.6        </td><td>1.4        </td><td>0.2        </td><td>Iris-setosa</td></tr>\n",
       "\t<tr><td>5.4        </td><td>3.9        </td><td>1.7        </td><td>0.4        </td><td>Iris-setosa</td></tr>\n",
       "</tbody>\n",
       "</table>\n"
      ],
      "text/latex": [
       "\\begin{tabular}{r|lllll}\n",
       " SepalLengthCm & SepalWidthCm & PetalLengthCm & PetalWidthCm & Species\\\\\n",
       "\\hline\n",
       "\t 5.1         & 3.5         & 1.4         & 0.2         & Iris-setosa\\\\\n",
       "\t 4.9         & 3.0         & 1.4         & 0.2         & Iris-setosa\\\\\n",
       "\t 4.7         & 3.2         & 1.3         & 0.2         & Iris-setosa\\\\\n",
       "\t 4.6         & 3.1         & 1.5         & 0.2         & Iris-setosa\\\\\n",
       "\t 5.0         & 3.6         & 1.4         & 0.2         & Iris-setosa\\\\\n",
       "\t 5.4         & 3.9         & 1.7         & 0.4         & Iris-setosa\\\\\n",
       "\\end{tabular}\n"
      ],
      "text/markdown": [
       "\n",
       "| SepalLengthCm | SepalWidthCm | PetalLengthCm | PetalWidthCm | Species |\n",
       "|---|---|---|---|---|\n",
       "| 5.1         | 3.5         | 1.4         | 0.2         | Iris-setosa |\n",
       "| 4.9         | 3.0         | 1.4         | 0.2         | Iris-setosa |\n",
       "| 4.7         | 3.2         | 1.3         | 0.2         | Iris-setosa |\n",
       "| 4.6         | 3.1         | 1.5         | 0.2         | Iris-setosa |\n",
       "| 5.0         | 3.6         | 1.4         | 0.2         | Iris-setosa |\n",
       "| 5.4         | 3.9         | 1.7         | 0.4         | Iris-setosa |\n",
       "\n"
      ],
      "text/plain": [
       "  SepalLengthCm SepalWidthCm PetalLengthCm PetalWidthCm Species    \n",
       "1 5.1           3.5          1.4           0.2          Iris-setosa\n",
       "2 4.9           3.0          1.4           0.2          Iris-setosa\n",
       "3 4.7           3.2          1.3           0.2          Iris-setosa\n",
       "4 4.6           3.1          1.5           0.2          Iris-setosa\n",
       "5 5.0           3.6          1.4           0.2          Iris-setosa\n",
       "6 5.4           3.9          1.7           0.4          Iris-setosa"
      ]
     },
     "metadata": {},
     "output_type": "display_data"
    },
    {
     "data": {
      "text/html": [
       "<table>\n",
       "<thead><tr><th></th><th scope=col>SepalLengthCm</th><th scope=col>SepalWidthCm</th><th scope=col>PetalLengthCm</th><th scope=col>PetalWidthCm</th><th scope=col>Species</th></tr></thead>\n",
       "<tbody>\n",
       "\t<tr><th scope=row>145</th><td>6.7           </td><td>3.3           </td><td>5.7           </td><td>2.5           </td><td>Iris-virginica</td></tr>\n",
       "\t<tr><th scope=row>146</th><td>6.7           </td><td>3.0           </td><td>5.2           </td><td>2.3           </td><td>Iris-virginica</td></tr>\n",
       "\t<tr><th scope=row>147</th><td>6.3           </td><td>2.5           </td><td>5.0           </td><td>1.9           </td><td>Iris-virginica</td></tr>\n",
       "\t<tr><th scope=row>148</th><td>6.5           </td><td>3.0           </td><td>5.2           </td><td>2.0           </td><td>Iris-virginica</td></tr>\n",
       "\t<tr><th scope=row>149</th><td>6.2           </td><td>3.4           </td><td>5.4           </td><td>2.3           </td><td>Iris-virginica</td></tr>\n",
       "\t<tr><th scope=row>150</th><td>5.9           </td><td>3.0           </td><td>5.1           </td><td>1.8           </td><td>Iris-virginica</td></tr>\n",
       "</tbody>\n",
       "</table>\n"
      ],
      "text/latex": [
       "\\begin{tabular}{r|lllll}\n",
       "  & SepalLengthCm & SepalWidthCm & PetalLengthCm & PetalWidthCm & Species\\\\\n",
       "\\hline\n",
       "\t145 & 6.7            & 3.3            & 5.7            & 2.5            & Iris-virginica\\\\\n",
       "\t146 & 6.7            & 3.0            & 5.2            & 2.3            & Iris-virginica\\\\\n",
       "\t147 & 6.3            & 2.5            & 5.0            & 1.9            & Iris-virginica\\\\\n",
       "\t148 & 6.5            & 3.0            & 5.2            & 2.0            & Iris-virginica\\\\\n",
       "\t149 & 6.2            & 3.4            & 5.4            & 2.3            & Iris-virginica\\\\\n",
       "\t150 & 5.9            & 3.0            & 5.1            & 1.8            & Iris-virginica\\\\\n",
       "\\end{tabular}\n"
      ],
      "text/markdown": [
       "\n",
       "| <!--/--> | SepalLengthCm | SepalWidthCm | PetalLengthCm | PetalWidthCm | Species |\n",
       "|---|---|---|---|---|---|\n",
       "| 145 | 6.7            | 3.3            | 5.7            | 2.5            | Iris-virginica |\n",
       "| 146 | 6.7            | 3.0            | 5.2            | 2.3            | Iris-virginica |\n",
       "| 147 | 6.3            | 2.5            | 5.0            | 1.9            | Iris-virginica |\n",
       "| 148 | 6.5            | 3.0            | 5.2            | 2.0            | Iris-virginica |\n",
       "| 149 | 6.2            | 3.4            | 5.4            | 2.3            | Iris-virginica |\n",
       "| 150 | 5.9            | 3.0            | 5.1            | 1.8            | Iris-virginica |\n",
       "\n"
      ],
      "text/plain": [
       "    SepalLengthCm SepalWidthCm PetalLengthCm PetalWidthCm Species       \n",
       "145 6.7           3.3          5.7           2.5          Iris-virginica\n",
       "146 6.7           3.0          5.2           2.3          Iris-virginica\n",
       "147 6.3           2.5          5.0           1.9          Iris-virginica\n",
       "148 6.5           3.0          5.2           2.0          Iris-virginica\n",
       "149 6.2           3.4          5.4           2.3          Iris-virginica\n",
       "150 5.9           3.0          5.1           1.8          Iris-virginica"
      ]
     },
     "metadata": {},
     "output_type": "display_data"
    }
   ],
   "source": [
    "#Exploratory Data Analysis\n",
    "head(irisdata)\n",
    "tail(irisdata)"
   ]
  },
  {
   "cell_type": "code",
   "execution_count": 30,
   "metadata": {},
   "outputs": [
    {
     "data": {
      "text/plain": [
       " SepalLengthCm    SepalWidthCm   PetalLengthCm    PetalWidthCm  \n",
       " Min.   :4.300   Min.   :2.000   Min.   :1.000   Min.   :0.100  \n",
       " 1st Qu.:5.100   1st Qu.:2.800   1st Qu.:1.600   1st Qu.:0.300  \n",
       " Median :5.800   Median :3.000   Median :4.350   Median :1.300  \n",
       " Mean   :5.843   Mean   :3.054   Mean   :3.759   Mean   :1.199  \n",
       " 3rd Qu.:6.400   3rd Qu.:3.300   3rd Qu.:5.100   3rd Qu.:1.800  \n",
       " Max.   :7.900   Max.   :4.400   Max.   :6.900   Max.   :2.500  \n",
       "            Species  \n",
       " Iris-setosa    :50  \n",
       " Iris-versicolor:50  \n",
       " Iris-virginica :50  \n",
       "                     \n",
       "                     \n",
       "                     "
      ]
     },
     "metadata": {},
     "output_type": "display_data"
    }
   ],
   "source": [
    "summary(irisdata)"
   ]
  },
  {
   "cell_type": "code",
   "execution_count": 31,
   "metadata": {},
   "outputs": [
    {
     "data": {
      "image/png": "[encoded data removed]",
      "text/plain": [
       "plot without title"
      ]
     },
     "metadata": {},
     "output_type": "display_data"
    }
   ],
   "source": [
    "#Data Visualisation\n",
    "ggplot(irisdata, aes(x = SepalLengthCm, y = SepalWidthCm)) +\n",
    "  geom_point(col = \"steelblue\")+\n",
    "  ggtitle(\"Sepal dimensions\") +\n",
    "  xlab(\"Sepal length in centimetres\") +\n",
    "  ylab(\"Sepal width in centimetres\")"
   ]
  },
  {
   "cell_type": "code",
   "execution_count": 12,
   "metadata": {},
   "outputs": [
    {
     "data": {
      "image/png": "[encoded data removed]",
      "text/plain": [
       "plot without title"
      ]
     },
     "metadata": {},
     "output_type": "display_data"
    }
   ],
   "source": [
    "ggplot(irisdata, aes(x = PetalLengthCm, y = PetalWidthCm)) +\n",
    "  geom_point(col = \"red\")+\n",
    "  ggtitle(\"Petal dimensions\") +\n",
    "  xlab(\"Petal length in centimetres\") +\n",
    "  ylab(\"Petal width in centimetres\")"
   ]
  },
  {
   "cell_type": "markdown",
   "metadata": {},
   "source": [
    "Now, we split out entire dataset into two parts - the training set and the testing set. This is a very common practice in machine learning - wherein, we train a machine learning algorithm with the training data, and then test our model using the testing data."
   ]
  },
  {
   "cell_type": "code",
   "execution_count": 32,
   "metadata": {},
   "outputs": [],
   "source": [
    "#calling the library and setting the seed\n",
    "library(caTools)\n",
    "set.seed(123)\n",
    "\n",
    "#splitting the data into training and test set\n",
    "split = sample.split(irisdata$Species, SplitRatio = 0.80)\n",
    "training_set = subset(irisdata, split == TRUE)\n",
    "test_set = subset(irisdata, split == FALSE)\n"
   ]
  },
  {
   "cell_type": "markdown",
   "metadata": {},
   "source": [
    "we can now build our decision tree. To do that, we first build a formula which we shall be using to depict the dependencies. For this problem, we're trying to build a model that tries to classify (classification tree) a test data point, into one of the three Species classes - i.e. setosa, virginica or versicolor. The input is a tuple consisting of SepalLengthCm,SepalWidthCm,PetalLengthCm and PetalWidthCm"
   ]
  },
  {
   "cell_type": "code",
   "execution_count": 33,
   "metadata": {},
   "outputs": [],
   "source": [
    "# Fitting Decision Tree Classification to the Training set\n",
    "classifier<- rpart ( Species ~., training_set, method =\"class\")"
   ]
  },
  {
   "cell_type": "code",
   "execution_count": 15,
   "metadata": {},
   "outputs": [
    {
     "data": {
      "image/png": "[encoded data removed]",
      "text/plain": [
       "plot without title"
      ]
     },
     "metadata": {},
     "output_type": "display_data"
    }
   ],
   "source": [
    "#Plot the model \n",
    "rpart.plot(classifier)"
   ]
  },
  {
   "cell_type": "markdown",
   "metadata": {},
   "source": [
    "The result is a very short tree: if Petal.Length is smaller than 2.5 we label the flower with setosa. Else we look at the variable Petal.Width. Is Petal.Width smaller than 1.6? If so, we label the flower versicolor, else virginica."
   ]
  },
  {
   "cell_type": "markdown",
   "metadata": {},
   "source": []
  },
  {
   "cell_type": "markdown",
   "metadata": {},
   "source": [
    "Now that our model is built, we can cross-check its validity by pitching it against our test data. So we use the predict function to predict the classes of the test data. And then create a matrix showing the comparison between the prediction result and the actual category."
   ]
  },
  {
   "cell_type": "code",
   "execution_count": 34,
   "metadata": {},
   "outputs": [
    {
     "data": {
      "text/html": [
       "<dl class=dl-horizontal>\n",
       "\t<dt>4</dt>\n",
       "\t\t<dd>Iris-setosa</dd>\n",
       "\t<dt>5</dt>\n",
       "\t\t<dd>Iris-setosa</dd>\n",
       "\t<dt>8</dt>\n",
       "\t\t<dd>Iris-setosa</dd>\n",
       "\t<dt>11</dt>\n",
       "\t\t<dd>Iris-setosa</dd>\n",
       "\t<dt>16</dt>\n",
       "\t\t<dd>Iris-setosa</dd>\n",
       "\t<dt>20</dt>\n",
       "\t\t<dd>Iris-setosa</dd>\n",
       "\t<dt>21</dt>\n",
       "\t\t<dd>Iris-setosa</dd>\n",
       "\t<dt>24</dt>\n",
       "\t\t<dd>Iris-setosa</dd>\n",
       "\t<dt>31</dt>\n",
       "\t\t<dd>Iris-setosa</dd>\n",
       "\t<dt>32</dt>\n",
       "\t\t<dd>Iris-setosa</dd>\n",
       "\t<dt>53</dt>\n",
       "\t\t<dd>Iris-virginica</dd>\n",
       "\t<dt>59</dt>\n",
       "\t\t<dd>Iris-versicolor</dd>\n",
       "\t<dt>65</dt>\n",
       "\t\t<dd>Iris-versicolor</dd>\n",
       "\t<dt>67</dt>\n",
       "\t\t<dd>Iris-versicolor</dd>\n",
       "\t<dt>68</dt>\n",
       "\t\t<dd>Iris-versicolor</dd>\n",
       "\t<dt>69</dt>\n",
       "\t\t<dd>Iris-versicolor</dd>\n",
       "\t<dt>84</dt>\n",
       "\t\t<dd>Iris-virginica</dd>\n",
       "\t<dt>87</dt>\n",
       "\t\t<dd>Iris-versicolor</dd>\n",
       "\t<dt>88</dt>\n",
       "\t\t<dd>Iris-versicolor</dd>\n",
       "\t<dt>89</dt>\n",
       "\t\t<dd>Iris-versicolor</dd>\n",
       "\t<dt>104</dt>\n",
       "\t\t<dd>Iris-virginica</dd>\n",
       "\t<dt>106</dt>\n",
       "\t\t<dd>Iris-virginica</dd>\n",
       "\t<dt>107</dt>\n",
       "\t\t<dd>Iris-versicolor</dd>\n",
       "\t<dt>111</dt>\n",
       "\t\t<dd>Iris-virginica</dd>\n",
       "\t<dt>114</dt>\n",
       "\t\t<dd>Iris-virginica</dd>\n",
       "\t<dt>118</dt>\n",
       "\t\t<dd>Iris-virginica</dd>\n",
       "\t<dt>126</dt>\n",
       "\t\t<dd>Iris-virginica</dd>\n",
       "\t<dt>132</dt>\n",
       "\t\t<dd>Iris-virginica</dd>\n",
       "\t<dt>139</dt>\n",
       "\t\t<dd>Iris-versicolor</dd>\n",
       "\t<dt>145</dt>\n",
       "\t\t<dd>Iris-virginica</dd>\n",
       "</dl>\n",
       "\n",
       "<details>\n",
       "\t<summary style=display:list-item;cursor:pointer>\n",
       "\t\t<strong>Levels</strong>:\n",
       "\t</summary>\n",
       "\t<ol class=list-inline>\n",
       "\t\t<li>'Iris-setosa'</li>\n",
       "\t\t<li>'Iris-versicolor'</li>\n",
       "\t\t<li>'Iris-virginica'</li>\n",
       "\t</ol>\n",
       "</details>"
      ],
      "text/latex": [
       "\\begin{description*}\n",
       "\\item[4] Iris-setosa\n",
       "\\item[5] Iris-setosa\n",
       "\\item[8] Iris-setosa\n",
       "\\item[11] Iris-setosa\n",
       "\\item[16] Iris-setosa\n",
       "\\item[20] Iris-setosa\n",
       "\\item[21] Iris-setosa\n",
       "\\item[24] Iris-setosa\n",
       "\\item[31] Iris-setosa\n",
       "\\item[32] Iris-setosa\n",
       "\\item[53] Iris-virginica\n",
       "\\item[59] Iris-versicolor\n",
       "\\item[65] Iris-versicolor\n",
       "\\item[67] Iris-versicolor\n",
       "\\item[68] Iris-versicolor\n",
       "\\item[69] Iris-versicolor\n",
       "\\item[84] Iris-virginica\n",
       "\\item[87] Iris-versicolor\n",
       "\\item[88] Iris-versicolor\n",
       "\\item[89] Iris-versicolor\n",
       "\\item[104] Iris-virginica\n",
       "\\item[106] Iris-virginica\n",
       "\\item[107] Iris-versicolor\n",
       "\\item[111] Iris-virginica\n",
       "\\item[114] Iris-virginica\n",
       "\\item[118] Iris-virginica\n",
       "\\item[126] Iris-virginica\n",
       "\\item[132] Iris-virginica\n",
       "\\item[139] Iris-versicolor\n",
       "\\item[145] Iris-virginica\n",
       "\\end{description*}\n",
       "\n",
       "\\emph{Levels}: \\begin{enumerate*}\n",
       "\\item 'Iris-setosa'\n",
       "\\item 'Iris-versicolor'\n",
       "\\item 'Iris-virginica'\n",
       "\\end{enumerate*}\n"
      ],
      "text/markdown": [
       "4\n",
       ":   Iris-setosa5\n",
       ":   Iris-setosa8\n",
       ":   Iris-setosa11\n",
       ":   Iris-setosa16\n",
       ":   Iris-setosa20\n",
       ":   Iris-setosa21\n",
       ":   Iris-setosa24\n",
       ":   Iris-setosa31\n",
       ":   Iris-setosa32\n",
       ":   Iris-setosa53\n",
       ":   Iris-virginica59\n",
       ":   Iris-versicolor65\n",
       ":   Iris-versicolor67\n",
       ":   Iris-versicolor68\n",
       ":   Iris-versicolor69\n",
       ":   Iris-versicolor84\n",
       ":   Iris-virginica87\n",
       ":   Iris-versicolor88\n",
       ":   Iris-versicolor89\n",
       ":   Iris-versicolor104\n",
       ":   Iris-virginica106\n",
       ":   Iris-virginica107\n",
       ":   Iris-versicolor111\n",
       ":   Iris-virginica114\n",
       ":   Iris-virginica118\n",
       ":   Iris-virginica126\n",
       ":   Iris-virginica132\n",
       ":   Iris-virginica139\n",
       ":   Iris-versicolor145\n",
       ":   Iris-virginica\n",
       "\n",
       "\n",
       "**Levels**: 1. 'Iris-setosa'\n",
       "2. 'Iris-versicolor'\n",
       "3. 'Iris-virginica'\n",
       "\n",
       "\n"
      ],
      "text/plain": [
       "              4               5               8              11              16 \n",
       "    Iris-setosa     Iris-setosa     Iris-setosa     Iris-setosa     Iris-setosa \n",
       "             20              21              24              31              32 \n",
       "    Iris-setosa     Iris-setosa     Iris-setosa     Iris-setosa     Iris-setosa \n",
       "             53              59              65              67              68 \n",
       " Iris-virginica Iris-versicolor Iris-versicolor Iris-versicolor Iris-versicolor \n",
       "             69              84              87              88              89 \n",
       "Iris-versicolor  Iris-virginica Iris-versicolor Iris-versicolor Iris-versicolor \n",
       "            104             106             107             111             114 \n",
       " Iris-virginica  Iris-virginica Iris-versicolor  Iris-virginica  Iris-virginica \n",
       "            118             126             132             139             145 \n",
       " Iris-virginica  Iris-virginica  Iris-virginica Iris-versicolor  Iris-virginica \n",
       "Levels: Iris-setosa Iris-versicolor Iris-virginica"
      ]
     },
     "metadata": {},
     "output_type": "display_data"
    }
   ],
   "source": [
    "# Predicting the Test set results\n",
    "y_pred = predict(classifier, newdata = test_set, type = 'class')\n",
    "y_pred\n"
   ]
  },
  {
   "cell_type": "code",
   "execution_count": 38,
   "metadata": {},
   "outputs": [
    {
     "data": {
      "text/plain": [
       "Confusion Matrix and Statistics\n",
       "\n",
       "                 Reference\n",
       "Prediction        Iris-setosa Iris-versicolor Iris-virginica\n",
       "  Iris-setosa              10               0              0\n",
       "  Iris-versicolor           0               8              2\n",
       "  Iris-virginica            0               2              8\n",
       "\n",
       "Overall Statistics\n",
       "                                          \n",
       "               Accuracy : 0.8667          \n",
       "                 95% CI : (0.6928, 0.9624)\n",
       "    No Information Rate : 0.3333          \n",
       "    P-Value [Acc > NIR] : 2.296e-09       \n",
       "                                          \n",
       "                  Kappa : 0.8             \n",
       "                                          \n",
       " Mcnemar's Test P-Value : NA              \n",
       "\n",
       "Statistics by Class:\n",
       "\n",
       "                     Class: Iris-setosa Class: Iris-versicolor\n",
       "Sensitivity                      1.0000                 0.8000\n",
       "Specificity                      1.0000                 0.9000\n",
       "Pos Pred Value                   1.0000                 0.8000\n",
       "Neg Pred Value                   1.0000                 0.9000\n",
       "Prevalence                       0.3333                 0.3333\n",
       "Detection Rate                   0.3333                 0.2667\n",
       "Detection Prevalence             0.3333                 0.3333\n",
       "Balanced Accuracy                1.0000                 0.8500\n",
       "                     Class: Iris-virginica\n",
       "Sensitivity                         0.8000\n",
       "Specificity                         0.9000\n",
       "Pos Pred Value                      0.8000\n",
       "Neg Pred Value                      0.9000\n",
       "Prevalence                          0.3333\n",
       "Detection Rate                      0.2667\n",
       "Detection Prevalence                0.3333\n",
       "Balanced Accuracy                   0.8500"
      ]
     },
     "metadata": {},
     "output_type": "display_data"
    }
   ],
   "source": [
    "# Making the Confusion Matrix\n",
    "confusionMatrix(y_pred,test_set[,5])"
   ]
  },
  {
   "cell_type": "markdown",
   "metadata": {},
   "source": [
    "Trying another package - party. It has ctree() function for fitting conditional trees. \n",
    "    "
   ]
  },
  {
   "cell_type": "code",
   "execution_count": 39,
   "metadata": {},
   "outputs": [],
   "source": [
    "library(party)\n",
    "iris_ctree <- ctree(Species ~ SepalLengthCm+SepalWidthCm+PetalLengthCm+PetalWidthCm, data=irisdata)\n"
   ]
  },
  {
   "cell_type": "code",
   "execution_count": 40,
   "metadata": {},
   "outputs": [
    {
     "name": "stdout",
     "output_type": "stream",
     "text": [
      "\n",
      "\t Conditional inference tree with 4 terminal nodes\n",
      "\n",
      "Response:  Species \n",
      "Inputs:  SepalLengthCm, SepalWidthCm, PetalLengthCm, PetalWidthCm \n",
      "Number of observations:  150 \n",
      "\n",
      "1) PetalLengthCm <= 1.9; criterion = 1, statistic = 140.257\n",
      "  2)*  weights = 50 \n",
      "1) PetalLengthCm > 1.9\n",
      "  3) PetalWidthCm <= 1.7; criterion = 1, statistic = 67.894\n",
      "    4) PetalLengthCm <= 4.8; criterion = 0.999, statistic = 13.865\n",
      "      5)*  weights = 46 \n",
      "    4) PetalLengthCm > 4.8\n",
      "      6)*  weights = 8 \n",
      "  3) PetalWidthCm > 1.7\n",
      "    7)*  weights = 46 \n"
     ]
    }
   ],
   "source": [
    "print(iris_ctree)"
   ]
  },
  {
   "cell_type": "code",
   "execution_count": 41,
   "metadata": {},
   "outputs": [
    {
     "data": {
      "image/png": "[encoded data removed]",
      "text/plain": [
       "plot without title"
      ]
     },
     "metadata": {},
     "output_type": "display_data"
    }
   ],
   "source": [
    "plot(iris_ctree)"
   ]
  },
  {
   "cell_type": "code",
   "execution_count": null,
   "metadata": {},
   "outputs": [],
   "source": []
  }
 ],
 "metadata": {
  "kernelspec": {
   "display_name": "R",
   "language": "R",
   "name": "ir"
  },
  "language_info": {
   "codemirror_mode": "r",
   "file_extension": ".r",
   "mimetype": "text/x-r-source",
   "name": "R",
   "pygments_lexer": "r",
   "version": "3.6.1"
  }
 },
 "nbformat": 4,
 "nbformat_minor": 4
}
